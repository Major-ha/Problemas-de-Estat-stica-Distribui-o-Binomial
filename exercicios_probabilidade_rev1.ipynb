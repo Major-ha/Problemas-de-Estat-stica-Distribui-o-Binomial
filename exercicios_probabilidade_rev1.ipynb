{
 "cells": [
  {
   "cell_type": "markdown",
   "id": "194a138c",
   "metadata": {},
   "source": [
    "# Exercícios Sobre Distribuição Binomial - IME"
   ]
  },
  {
   "cell_type": "code",
   "execution_count": 62,
   "id": "281f9cfd",
   "metadata": {},
   "outputs": [],
   "source": [
    "import pandas as pd\n",
    "from scipy.stats import binom\n",
    "import matplotlib.pyplot as plt\n",
    "plt.rc('figure', figsize = (12,6))"
   ]
  },
  {
   "cell_type": "markdown",
   "id": "bea6f1a6",
   "metadata": {},
   "source": [
    "## 1- Qual é a probabilidade de 3 caras em 5 lançamentos de uma moeda honesta? "
   ]
  },
  {
   "cell_type": "code",
   "execution_count": null,
   "id": "57d80a29",
   "metadata": {},
   "outputs": [],
   "source": [
    "probabilidade = binom.pmf(k, n, p)"
   ]
  },
  {
   "cell_type": "code",
   "execution_count": 2,
   "id": "048f815d",
   "metadata": {},
   "outputs": [
    {
     "data": {
      "text/plain": [
       "0.5"
      ]
     },
     "execution_count": 2,
     "metadata": {},
     "output_type": "execute_result"
    }
   ],
   "source": [
    "probabilidade_de_sucesso = p = 1/2 # O \"2\" vem do espaço amostral do problema, nesse caso a moeda pode dar 2 resultados\n",
    "p"
   ]
  },
  {
   "cell_type": "code",
   "execution_count": 3,
   "id": "5c5f9a74",
   "metadata": {},
   "outputs": [
    {
     "data": {
      "text/plain": [
       "5"
      ]
     },
     "execution_count": 3,
     "metadata": {},
     "output_type": "execute_result"
    }
   ],
   "source": [
    "n = 5 # 5 lançamentos\n",
    "n"
   ]
  },
  {
   "cell_type": "code",
   "execution_count": 4,
   "id": "21294699",
   "metadata": {},
   "outputs": [
    {
     "data": {
      "text/plain": [
       "3"
      ]
     },
     "execution_count": 4,
     "metadata": {},
     "output_type": "execute_result"
    }
   ],
   "source": [
    "k = 3 # probabilidade desejada\n",
    "k"
   ]
  },
  {
   "cell_type": "code",
   "execution_count": 5,
   "id": "fc6af0df",
   "metadata": {},
   "outputs": [
    {
     "data": {
      "text/plain": [
       "0.3125"
      ]
     },
     "execution_count": 5,
     "metadata": {},
     "output_type": "execute_result"
    }
   ],
   "source": [
    "probabilidade = binom.pmf(k, n, p)\n",
    "probabilidade"
   ]
  },
  {
   "cell_type": "markdown",
   "id": "05dd2e83",
   "metadata": {},
   "source": [
    "# R: 0.3125"
   ]
  },
  {
   "cell_type": "code",
   "execution_count": null,
   "id": "0deb14c5",
   "metadata": {},
   "outputs": [],
   "source": []
  },
  {
   "cell_type": "markdown",
   "id": "16417e63",
   "metadata": {},
   "source": [
    "# 2- Qual é a probabilidade de menos que 3 caras em 5 lançamentos de uma moeda honesta? \n"
   ]
  },
  {
   "cell_type": "code",
   "execution_count": 24,
   "id": "ed5d8224",
   "metadata": {},
   "outputs": [
    {
     "data": {
      "text/plain": [
       "5"
      ]
     },
     "execution_count": 24,
     "metadata": {},
     "output_type": "execute_result"
    }
   ],
   "source": [
    "n=5\n",
    "n"
   ]
  },
  {
   "cell_type": "code",
   "execution_count": 25,
   "id": "3516ec3d",
   "metadata": {},
   "outputs": [
    {
     "data": {
      "text/plain": [
       "0.5"
      ]
     },
     "execution_count": 25,
     "metadata": {},
     "output_type": "execute_result"
    }
   ],
   "source": [
    "p=0.5\n",
    "p"
   ]
  },
  {
   "cell_type": "code",
   "execution_count": null,
   "id": "1a2b8bc7",
   "metadata": {},
   "outputs": [],
   "source": []
  },
  {
   "cell_type": "code",
   "execution_count": 27,
   "id": "5d176046",
   "metadata": {},
   "outputs": [
    {
     "data": {
      "text/plain": [
       "0.5"
      ]
     },
     "execution_count": 27,
     "metadata": {},
     "output_type": "execute_result"
    }
   ],
   "source": [
    "probabilidade = binom.cdf(2, n, p) \n",
    "probabilidade ## o k, neste caso é = 2 pois queremos a probabilidade a probabilidade de ser 0 caras + prob de ser 1 cara + prob de ser 2 caras"
   ]
  },
  {
   "cell_type": "markdown",
   "id": "737d5ad2",
   "metadata": {},
   "source": [
    "# R: 0.5"
   ]
  },
  {
   "cell_type": "code",
   "execution_count": null,
   "id": "b8ef7eb4",
   "metadata": {},
   "outputs": [],
   "source": []
  },
  {
   "cell_type": "markdown",
   "id": "f9c80400",
   "metadata": {},
   "source": [
    "# 3- Suponha que a probabilidade dos pais  terem um  filho(a) com cabelos loiros seja ¼. Se houverem 6 crianças na família, qual é a probabilidade de que metade delas terem cabelos loiros? "
   ]
  },
  {
   "cell_type": "code",
   "execution_count": 7,
   "id": "faef9071",
   "metadata": {},
   "outputs": [
    {
     "data": {
      "text/plain": [
       "0.25"
      ]
     },
     "execution_count": 7,
     "metadata": {},
     "output_type": "execute_result"
    }
   ],
   "source": [
    "p=0.25\n",
    "p"
   ]
  },
  {
   "cell_type": "code",
   "execution_count": 8,
   "id": "619df382",
   "metadata": {},
   "outputs": [
    {
     "data": {
      "text/plain": [
       "6"
      ]
     },
     "execution_count": 8,
     "metadata": {},
     "output_type": "execute_result"
    }
   ],
   "source": [
    "n=6\n",
    "n"
   ]
  },
  {
   "cell_type": "code",
   "execution_count": 9,
   "id": "e7912214",
   "metadata": {},
   "outputs": [
    {
     "data": {
      "text/plain": [
       "3"
      ]
     },
     "execution_count": 9,
     "metadata": {},
     "output_type": "execute_result"
    }
   ],
   "source": [
    "k=3\n",
    "k"
   ]
  },
  {
   "cell_type": "code",
   "execution_count": 10,
   "id": "1c0a5665",
   "metadata": {},
   "outputs": [
    {
     "data": {
      "text/plain": [
       "0.13183593750000008"
      ]
     },
     "execution_count": 10,
     "metadata": {},
     "output_type": "execute_result"
    }
   ],
   "source": [
    "probabilidade = binom.pmf(k, n, p)\n",
    "probabilidade"
   ]
  },
  {
   "cell_type": "markdown",
   "id": "df263ac8",
   "metadata": {},
   "source": [
    "# R: 0.1318"
   ]
  },
  {
   "cell_type": "code",
   "execution_count": null,
   "id": "7051b949",
   "metadata": {},
   "outputs": [],
   "source": []
  },
  {
   "cell_type": "markdown",
   "id": "8ab0d9d9",
   "metadata": {},
   "source": [
    "# 4- Se a probabilidade de atingir um alvo num único disparo é 0,3, qual é a probabilidade de que em 4 disparos o alvo seja atingido no mínimo 3 vezes? "
   ]
  },
  {
   "cell_type": "code",
   "execution_count": 11,
   "id": "5821e48a",
   "metadata": {},
   "outputs": [
    {
     "data": {
      "text/plain": [
       "0.3"
      ]
     },
     "execution_count": 11,
     "metadata": {},
     "output_type": "execute_result"
    }
   ],
   "source": [
    "p=0.3\n",
    "p"
   ]
  },
  {
   "cell_type": "code",
   "execution_count": 12,
   "id": "96e195bb",
   "metadata": {},
   "outputs": [
    {
     "data": {
      "text/plain": [
       "4"
      ]
     },
     "execution_count": 12,
     "metadata": {},
     "output_type": "execute_result"
    }
   ],
   "source": [
    "n=4\n",
    "n"
   ]
  },
  {
   "cell_type": "code",
   "execution_count": 13,
   "id": "ee30ec05",
   "metadata": {},
   "outputs": [
    {
     "data": {
      "text/plain": [
       "3"
      ]
     },
     "execution_count": 13,
     "metadata": {},
     "output_type": "execute_result"
    }
   ],
   "source": [
    "k=3\n",
    "k"
   ]
  },
  {
   "cell_type": "code",
   "execution_count": 15,
   "id": "16207687",
   "metadata": {},
   "outputs": [
    {
     "data": {
      "text/plain": [
       "0.0081"
      ]
     },
     "execution_count": 15,
     "metadata": {},
     "output_type": "execute_result"
    }
   ],
   "source": [
    "probabilidade = binom.sf(k, n, p)\n",
    "probabilidade"
   ]
  },
  {
   "cell_type": "markdown",
   "id": "e9323046",
   "metadata": {},
   "source": [
    "# R: 0.0081"
   ]
  },
  {
   "cell_type": "code",
   "execution_count": null,
   "id": "cda0c906",
   "metadata": {},
   "outputs": [],
   "source": []
  },
  {
   "cell_type": "markdown",
   "id": "45a8ad7e",
   "metadata": {},
   "source": [
    "# 5-  Um inspetor de qualidade extrai uma amostra de 10 tubos aleatoriamente de uma carga muito grande de tubos que  se  sabe  que  contém  20%  de  tubos  defeituosos.  Qual  é  a  probabilidade  de  que  não  mais  do  que  2  dos  tubos extraídos sejam defeituosos?   "
   ]
  },
  {
   "cell_type": "code",
   "execution_count": 28,
   "id": "f15c340c",
   "metadata": {},
   "outputs": [
    {
     "data": {
      "text/plain": [
       "0.2"
      ]
     },
     "execution_count": 28,
     "metadata": {},
     "output_type": "execute_result"
    }
   ],
   "source": [
    "p=0.2\n",
    "p"
   ]
  },
  {
   "cell_type": "code",
   "execution_count": 29,
   "id": "b290eb73",
   "metadata": {},
   "outputs": [
    {
     "data": {
      "text/plain": [
       "10"
      ]
     },
     "execution_count": 29,
     "metadata": {},
     "output_type": "execute_result"
    }
   ],
   "source": [
    "n=10\n",
    "n"
   ]
  },
  {
   "cell_type": "code",
   "execution_count": 30,
   "id": "b8a0229e",
   "metadata": {},
   "outputs": [
    {
     "data": {
      "text/plain": [
       "2"
      ]
     },
     "execution_count": 30,
     "metadata": {},
     "output_type": "execute_result"
    }
   ],
   "source": [
    "k=2\n",
    "k"
   ]
  },
  {
   "cell_type": "code",
   "execution_count": 31,
   "id": "e34bf3ee",
   "metadata": {},
   "outputs": [
    {
     "data": {
      "text/plain": [
       "0.6777995264000001"
      ]
     },
     "execution_count": 31,
     "metadata": {},
     "output_type": "execute_result"
    }
   ],
   "source": [
    "probabilidade = binom.cdf(2, n, p) \n",
    "probabilidade"
   ]
  },
  {
   "cell_type": "markdown",
   "id": "93f6a687",
   "metadata": {},
   "source": [
    "# R: 0.67779"
   ]
  },
  {
   "cell_type": "code",
   "execution_count": null,
   "id": "e5dd8c73",
   "metadata": {},
   "outputs": [],
   "source": []
  },
  {
   "cell_type": "markdown",
   "id": "08ac88f0",
   "metadata": {},
   "source": [
    "# 6- Um engenheiro de inspeção extrai uma amostra de 15 itens aleatoriamente de um processo de fabricação sabido produzir 85% de itens aceitáveis. Qual a probabilidade de que 10 dos itens extraídos sejam aceitáveis?"
   ]
  },
  {
   "cell_type": "code",
   "execution_count": 32,
   "id": "0fb15ecd",
   "metadata": {},
   "outputs": [
    {
     "data": {
      "text/plain": [
       "0.85"
      ]
     },
     "execution_count": 32,
     "metadata": {},
     "output_type": "execute_result"
    }
   ],
   "source": [
    "p=0.85\n",
    "p"
   ]
  },
  {
   "cell_type": "code",
   "execution_count": 33,
   "id": "78764da4",
   "metadata": {},
   "outputs": [
    {
     "data": {
      "text/plain": [
       "15"
      ]
     },
     "execution_count": 33,
     "metadata": {},
     "output_type": "execute_result"
    }
   ],
   "source": [
    "n=15\n",
    "n"
   ]
  },
  {
   "cell_type": "code",
   "execution_count": 34,
   "id": "68849213",
   "metadata": {},
   "outputs": [
    {
     "data": {
      "text/plain": [
       "10"
      ]
     },
     "execution_count": 34,
     "metadata": {},
     "output_type": "execute_result"
    }
   ],
   "source": [
    "k=10\n",
    "k"
   ]
  },
  {
   "cell_type": "code",
   "execution_count": 35,
   "id": "0dc566db",
   "metadata": {},
   "outputs": [
    {
     "data": {
      "text/plain": [
       "0.04489530068910986"
      ]
     },
     "execution_count": 35,
     "metadata": {},
     "output_type": "execute_result"
    }
   ],
   "source": [
    "probabilidade = binom.pmf(k, n, p)\n",
    "probabilidade"
   ]
  },
  {
   "cell_type": "markdown",
   "id": "6337feea",
   "metadata": {},
   "source": [
    "# R: 0.04489"
   ]
  },
  {
   "cell_type": "code",
   "execution_count": null,
   "id": "f63348ff",
   "metadata": {},
   "outputs": [],
   "source": []
  },
  {
   "cell_type": "markdown",
   "id": "e20fb5fa",
   "metadata": {},
   "source": [
    "# 7- Se  4  moedas  honestas  forem  lançadas  simultaneamente  (ou  1  moeda  honesta  for  lançada  4  vezes),  calcule  a distribuição de probabilidade completa e desenhe‐a num gráfico "
   ]
  },
  {
   "cell_type": "code",
   "execution_count": 36,
   "id": "483a8438",
   "metadata": {},
   "outputs": [
    {
     "data": {
      "text/plain": [
       "0.5"
      ]
     },
     "execution_count": 36,
     "metadata": {},
     "output_type": "execute_result"
    }
   ],
   "source": [
    "p=0.5\n",
    "p"
   ]
  },
  {
   "cell_type": "code",
   "execution_count": 37,
   "id": "80a7b164",
   "metadata": {},
   "outputs": [
    {
     "data": {
      "text/plain": [
       "4"
      ]
     },
     "execution_count": 37,
     "metadata": {},
     "output_type": "execute_result"
    }
   ],
   "source": [
    "n=4\n",
    "n"
   ]
  },
  {
   "cell_type": "code",
   "execution_count": 41,
   "id": "bf471055",
   "metadata": {},
   "outputs": [],
   "source": [
    "k=[0,1,2,3,4]"
   ]
  },
  {
   "cell_type": "code",
   "execution_count": 50,
   "id": "84a68df1",
   "metadata": {},
   "outputs": [
    {
     "data": {
      "text/plain": [
       "[array([0.0625, 0.25  , 0.375 , 0.25  , 0.0625])]"
      ]
     },
     "execution_count": 50,
     "metadata": {},
     "output_type": "execute_result"
    }
   ],
   "source": [
    "probabilidade = [binom.pmf(k, n, p)]\n",
    "probabilidade"
   ]
  },
  {
   "cell_type": "code",
   "execution_count": 51,
   "id": "1fa161b2",
   "metadata": {},
   "outputs": [
    {
     "data": {
      "text/html": [
       "<div>\n",
       "<style scoped>\n",
       "    .dataframe tbody tr th:only-of-type {\n",
       "        vertical-align: middle;\n",
       "    }\n",
       "\n",
       "    .dataframe tbody tr th {\n",
       "        vertical-align: top;\n",
       "    }\n",
       "\n",
       "    .dataframe thead th {\n",
       "        text-align: right;\n",
       "    }\n",
       "</style>\n",
       "<table border=\"1\" class=\"dataframe\">\n",
       "  <thead>\n",
       "    <tr style=\"text-align: right;\">\n",
       "      <th></th>\n",
       "      <th>0</th>\n",
       "      <th>1</th>\n",
       "      <th>2</th>\n",
       "      <th>3</th>\n",
       "      <th>4</th>\n",
       "    </tr>\n",
       "  </thead>\n",
       "  <tbody>\n",
       "    <tr>\n",
       "      <th>0</th>\n",
       "      <td>0.0625</td>\n",
       "      <td>0.25</td>\n",
       "      <td>0.375</td>\n",
       "      <td>0.25</td>\n",
       "      <td>0.0625</td>\n",
       "    </tr>\n",
       "  </tbody>\n",
       "</table>\n",
       "</div>"
      ],
      "text/plain": [
       "        0     1      2     3       4\n",
       "0  0.0625  0.25  0.375  0.25  0.0625"
      ]
     },
     "execution_count": 51,
     "metadata": {},
     "output_type": "execute_result"
    }
   ],
   "source": [
    "dados = pd.DataFrame(probabilidade)\n",
    "dados"
   ]
  },
  {
   "cell_type": "code",
   "execution_count": 58,
   "id": "3e129b9a",
   "metadata": {},
   "outputs": [],
   "source": [
    "dados.rename(index = {0:'Distribuição de Probabilidade'}, inplace = True)"
   ]
  },
  {
   "cell_type": "code",
   "execution_count": 75,
   "id": "d00c6fe4",
   "metadata": {},
   "outputs": [],
   "source": [
    "dados.rename_axis('retorno_caras', axis = 'columns', inplace = True)"
   ]
  },
  {
   "cell_type": "code",
   "execution_count": 76,
   "id": "31543d5b",
   "metadata": {},
   "outputs": [
    {
     "data": {
      "text/html": [
       "<div>\n",
       "<style scoped>\n",
       "    .dataframe tbody tr th:only-of-type {\n",
       "        vertical-align: middle;\n",
       "    }\n",
       "\n",
       "    .dataframe tbody tr th {\n",
       "        vertical-align: top;\n",
       "    }\n",
       "\n",
       "    .dataframe thead th {\n",
       "        text-align: right;\n",
       "    }\n",
       "</style>\n",
       "<table border=\"1\" class=\"dataframe\">\n",
       "  <thead>\n",
       "    <tr style=\"text-align: right;\">\n",
       "      <th>retorno_caras</th>\n",
       "      <th>0</th>\n",
       "      <th>1</th>\n",
       "      <th>2</th>\n",
       "      <th>3</th>\n",
       "      <th>4</th>\n",
       "    </tr>\n",
       "  </thead>\n",
       "  <tbody>\n",
       "    <tr>\n",
       "      <th>Distribuição de Probabilidade</th>\n",
       "      <td>0.0625</td>\n",
       "      <td>0.25</td>\n",
       "      <td>0.375</td>\n",
       "      <td>0.25</td>\n",
       "      <td>0.0625</td>\n",
       "    </tr>\n",
       "  </tbody>\n",
       "</table>\n",
       "</div>"
      ],
      "text/plain": [
       "retorno_caras                       0     1      2     3       4\n",
       "Distribuição de Probabilidade  0.0625  0.25  0.375  0.25  0.0625"
      ]
     },
     "execution_count": 76,
     "metadata": {},
     "output_type": "execute_result"
    }
   ],
   "source": [
    "dados"
   ]
  },
  {
   "cell_type": "code",
   "execution_count": 97,
   "id": "744dc338",
   "metadata": {},
   "outputs": [
    {
     "data": {
      "text/plain": [
       "Text(0.5, 1.0, 'Distribuição de probabilidade')"
      ]
     },
     "execution_count": 97,
     "metadata": {},
     "output_type": "execute_result"
    },
    {
     "data": {
      "image/png": "[encoded data removed]",
      "text/plain": [
       "<Figure size 864x432 with 1 Axes>"
      ]
     },
     "metadata": {
      "needs_background": "light"
     },
     "output_type": "display_data"
    }
   ],
   "source": [
    "ax = dados.plot(kind = 'bar')\n",
    "plt.xticks(rotation = 0)\n",
    "ax.set_ylabel('Probabilidade',{'fontsize': 16})\n",
    "ax.set_title('Distribuição de probabilidade', {'fontsize': 22}) "
   ]
  },
  {
   "cell_type": "markdown",
   "id": "ec2a9473",
   "metadata": {},
   "source": [
    "# Se alguém puder ajudar a melhorar o gráfico... Queria colocar os valores das probabilidades na parte de baixo ou dentro das barras..."
   ]
  },
  {
   "cell_type": "code",
   "execution_count": null,
   "id": "9be6b99e",
   "metadata": {},
   "outputs": [],
   "source": []
  },
  {
   "cell_type": "markdown",
   "id": "a5ebad24",
   "metadata": {},
   "source": [
    "# 8- Calcule e trace o gráfico da distribuição de probabilidade para uma amostra de 5 itens tomada aleatoriamente de um processo de produção sabido produzir 30% de itens defeituosos"
   ]
  },
  {
   "cell_type": "code",
   "execution_count": 85,
   "id": "ab58da84",
   "metadata": {},
   "outputs": [
    {
     "data": {
      "text/plain": [
       "0.3"
      ]
     },
     "execution_count": 85,
     "metadata": {},
     "output_type": "execute_result"
    }
   ],
   "source": [
    "p= 0.30\n",
    "p"
   ]
  },
  {
   "cell_type": "code",
   "execution_count": 86,
   "id": "17024c28",
   "metadata": {},
   "outputs": [
    {
     "data": {
      "text/plain": [
       "5"
      ]
     },
     "execution_count": 86,
     "metadata": {},
     "output_type": "execute_result"
    }
   ],
   "source": [
    "n=5\n",
    "n"
   ]
  },
  {
   "cell_type": "code",
   "execution_count": 90,
   "id": "9568903c",
   "metadata": {},
   "outputs": [],
   "source": [
    "k= [0,1,2,3,4,5]"
   ]
  },
  {
   "cell_type": "code",
   "execution_count": 91,
   "id": "ca2bf432",
   "metadata": {},
   "outputs": [
    {
     "data": {
      "text/plain": [
       "[array([0.16807, 0.36015, 0.3087 , 0.1323 , 0.02835, 0.00243])]"
      ]
     },
     "execution_count": 91,
     "metadata": {},
     "output_type": "execute_result"
    }
   ],
   "source": [
    "probabilidade = [binom.pmf(k, n, p)]\n",
    "probabilidade"
   ]
  },
  {
   "cell_type": "code",
   "execution_count": 92,
   "id": "89e31e8c",
   "metadata": {},
   "outputs": [
    {
     "data": {
      "text/html": [
       "<div>\n",
       "<style scoped>\n",
       "    .dataframe tbody tr th:only-of-type {\n",
       "        vertical-align: middle;\n",
       "    }\n",
       "\n",
       "    .dataframe tbody tr th {\n",
       "        vertical-align: top;\n",
       "    }\n",
       "\n",
       "    .dataframe thead th {\n",
       "        text-align: right;\n",
       "    }\n",
       "</style>\n",
       "<table border=\"1\" class=\"dataframe\">\n",
       "  <thead>\n",
       "    <tr style=\"text-align: right;\">\n",
       "      <th></th>\n",
       "      <th>0</th>\n",
       "      <th>1</th>\n",
       "      <th>2</th>\n",
       "      <th>3</th>\n",
       "      <th>4</th>\n",
       "      <th>5</th>\n",
       "    </tr>\n",
       "  </thead>\n",
       "  <tbody>\n",
       "    <tr>\n",
       "      <th>0</th>\n",
       "      <td>0.16807</td>\n",
       "      <td>0.36015</td>\n",
       "      <td>0.3087</td>\n",
       "      <td>0.1323</td>\n",
       "      <td>0.02835</td>\n",
       "      <td>0.00243</td>\n",
       "    </tr>\n",
       "  </tbody>\n",
       "</table>\n",
       "</div>"
      ],
      "text/plain": [
       "         0        1       2       3        4        5\n",
       "0  0.16807  0.36015  0.3087  0.1323  0.02835  0.00243"
      ]
     },
     "execution_count": 92,
     "metadata": {},
     "output_type": "execute_result"
    }
   ],
   "source": [
    "dados1 = pd.DataFrame(probabilidade)\n",
    "dados1"
   ]
  },
  {
   "cell_type": "code",
   "execution_count": 94,
   "id": "a0888575",
   "metadata": {},
   "outputs": [
    {
     "data": {
      "text/html": [
       "<div>\n",
       "<style scoped>\n",
       "    .dataframe tbody tr th:only-of-type {\n",
       "        vertical-align: middle;\n",
       "    }\n",
       "\n",
       "    .dataframe tbody tr th {\n",
       "        vertical-align: top;\n",
       "    }\n",
       "\n",
       "    .dataframe thead th {\n",
       "        text-align: right;\n",
       "    }\n",
       "</style>\n",
       "<table border=\"1\" class=\"dataframe\">\n",
       "  <thead>\n",
       "    <tr style=\"text-align: right;\">\n",
       "      <th>itens_defeituosos</th>\n",
       "      <th>0</th>\n",
       "      <th>1</th>\n",
       "      <th>2</th>\n",
       "      <th>3</th>\n",
       "      <th>4</th>\n",
       "      <th>5</th>\n",
       "    </tr>\n",
       "  </thead>\n",
       "  <tbody>\n",
       "    <tr>\n",
       "      <th>Distribuição de Probabilidade</th>\n",
       "      <td>0.16807</td>\n",
       "      <td>0.36015</td>\n",
       "      <td>0.3087</td>\n",
       "      <td>0.1323</td>\n",
       "      <td>0.02835</td>\n",
       "      <td>0.00243</td>\n",
       "    </tr>\n",
       "  </tbody>\n",
       "</table>\n",
       "</div>"
      ],
      "text/plain": [
       "itens_defeituosos                    0        1       2       3        4  \\\n",
       "Distribuição de Probabilidade  0.16807  0.36015  0.3087  0.1323  0.02835   \n",
       "\n",
       "itens_defeituosos                    5  \n",
       "Distribuição de Probabilidade  0.00243  "
      ]
     },
     "execution_count": 94,
     "metadata": {},
     "output_type": "execute_result"
    }
   ],
   "source": [
    "dados1.rename(index = {0:'Distribuição de Probabilidade'}, inplace = True)\n",
    "dados1.rename_axis('itens_defeituosos', axis = 'columns', inplace = True)\n",
    "dados1"
   ]
  },
  {
   "cell_type": "code",
   "execution_count": 96,
   "id": "2e3b5dc4",
   "metadata": {},
   "outputs": [
    {
     "data": {
      "text/plain": [
       "Text(0.5, 1.0, 'Distribuição de probabilidade')"
      ]
     },
     "execution_count": 96,
     "metadata": {},
     "output_type": "execute_result"
    },
    {
     "data": {
      "image/png": "[encoded data removed]",
      "text/plain": [
       "<Figure size 864x432 with 1 Axes>"
      ]
     },
     "metadata": {
      "needs_background": "light"
     },
     "output_type": "display_data"
    }
   ],
   "source": [
    "ax1 = dados1.plot(kind = 'bar')\n",
    "plt.xticks(rotation = 0)\n",
    "ax1.set_ylabel('Probabilidade',{'fontsize': 16})\n",
    "ax1.set_title('Distribuição de probabilidade', {'fontsize': 22}) "
   ]
  },
  {
   "cell_type": "code",
   "execution_count": null,
   "id": "b4382672",
   "metadata": {},
   "outputs": [],
   "source": []
  }
 ],
 "metadata": {
  "kernelspec": {
   "display_name": "Python 3",
   "language": "python",
   "name": "python3"
  },
  "language_info": {
   "codemirror_mode": {
    "name": "ipython",
    "version": 3
   },
   "file_extension": ".py",
   "mimetype": "text/x-python",
   "name": "python",
   "nbconvert_exporter": "python",
   "pygments_lexer": "ipython3",
   "version": "3.8.8"
  }
 },
 "nbformat": 4,
 "nbformat_minor": 5
}
